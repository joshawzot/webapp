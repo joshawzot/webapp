{
 "cells": [
  {
   "cell_type": "code",
   "execution_count": 3,
   "metadata": {},
   "outputs": [],
   "source": [
    "# Jupyter notebook to pull rwb data and run analysis on it.\n",
    "# Ensure that you are connected to the Tetramem network to pull data.\n",
    "\n",
    "import pandas as pd\n",
    "import numpy as np\n",
    "import sys, os, re, math\n",
    "import matplotlib.pyplot as plt\n",
    "import scipy.stats as stats\n",
    "import subprocess\n",
    "import json\n",
    "# Insert path to \"flint_mpw4_testing\\tests\\postprocess\" if using rwb_viewer notebook outside of this folder\n",
    "#sys.path.insert(1, r\"C:\\Users\\AdrienPierre\\Documents\\flint_mpw4_testing\\tests\\postprocess\")\n",
    "import core_post_processing_functions as cf\n",
    "import create_and_upload_rwb_param as curp"
   ]
  },
  {
   "cell_type": "markdown",
   "metadata": {},
   "source": [
    "This is an example analysis of correlating pre-bake vs. post-bake metrics. The first half will look at IO-level correlations while the second half of teh analysis will explore bit-level correlations. It is highly recommended to install Data Wrangler extension in VS Code for easy viewing of pandas dataframes. After installing this extension a button called 'View data' should appear at the top bar of your jupyter notebook."
   ]
  },
  {
   "cell_type": "markdown",
   "metadata": {},
   "source": [
    "1. IO-level correlations"
   ]
  },
  {
   "cell_type": "code",
   "execution_count": 4,
   "metadata": {},
   "outputs": [
    {
     "name": "stdout",
     "output_type": "stream",
     "text": [
      "Looking at table rwb_db_2\n",
      "Fetching TT27 regular expression filter on RWB column DIE_ID\n",
      "Data pulled from rwb_db_2\n",
      "Looking at table rwb_db_3\n",
      "Fetching TT27 regular expression filter on RWB column DIE_ID\n",
      "No data pulled from rwb_db_3\n",
      "Pull successful\n"
     ]
    }
   ],
   "source": [
    "# Pull all data from TT27\n",
    "rwb_pull = cf.rwb_fetch_data(regex='TT27', regex_col='DIE_ID') # Leave empty to pull all RWB data, takes longer time"
   ]
  },
  {
   "cell_type": "code",
   "execution_count": 5,
   "metadata": {},
   "outputs": [
    {
     "name": "stdout",
     "output_type": "stream",
     "text": [
      "   DIE_ID  MACRO  IO\n",
      "0    TT27      0   0\n",
      "1    TT27      0  46\n",
      "2    TT27      0  70\n",
      "3    TT27      0   9\n",
      "4    TT27      0  22\n",
      "5    TT27      0  50\n",
      "6    TT27      0  61\n",
      "7    TT27      0  35\n",
      "8    TT27      0  19\n",
      "9    TT27      0  57\n",
      "10   TT27      0  15\n",
      "11   TT27      0  27\n",
      "12   TT27      0  68\n",
      "13   TT27      0  13\n",
      "14   TT27      0  31\n",
      "15   TT27      0  30\n",
      "16   TT27      0  20\n",
      "17   TT27      0   8\n",
      "18   TT27      0  29\n",
      "19   TT27      0  75\n",
      "20   TT27      0  67\n",
      "21   TT27      0  42\n",
      "22   TT27      0  48\n",
      "23   TT27      0   1\n",
      "24   TT27      0   2\n",
      "25   TT27      0   6\n",
      "26   TT27      0  40\n",
      "27   TT27      0  58\n",
      "28   TT27      0  17\n",
      "29   TT27      0  28\n",
      "30   TT27      0  32\n",
      "31   TT27      0  41\n"
     ]
    }
   ],
   "source": [
    "# Determine which macros/IOs were baked\n",
    "baked_tt27macroios = rwb_pull.loc[rwb_pull.RUN_NAME.str.contains('bake')][['DIE_ID','MACRO','IO']].drop_duplicates() # drop duplicates is to remove duplicate items after only keeping die, macro and IO columns\n",
    "\n",
    "# Determine which macros/IOs were cycled up to 100\n",
    "cyc100_tt27macroios = rwb_pull.loc[rwb_pull.TEST_NAME.str.contains('100cyc')][['DIE_ID','MACRO','IO']].drop_duplicates()\n",
    "\n",
    "# Find the intersection of the two\n",
    "RAC_tt27macroios = pd.merge(left=baked_tt27macroios, right=cyc100_tt27macroios, how='inner') # Use inner intersection (default) to keep common macros/IOs for these two conditions (baked and cycled)\n",
    "print(RAC_tt27macroios)\n"
   ]
  },
  {
   "cell_type": "code",
   "execution_count": 6,
   "metadata": {},
   "outputs": [
    {
     "name": "stdout",
     "output_type": "stream",
     "text": [
      "pstT0-ftreset_read0      37\n",
      "T0_read0                 36\n",
      "prebake_read0            33\n",
      "rebake_read0             33\n",
      "afterbakeReft_read0      32\n",
      "post-form_read0          32\n",
      "post10cyc-set_read0      32\n",
      "post10cyc-reset_read0    32\n",
      "check_read0              32\n",
      "pst100cycft_read0        32\n",
      "125C22minbake_read0      32\n",
      "150C25minbake_read0      32\n",
      "150C50minbake_read0      32\n",
      "150C220minbake_read0     32\n",
      "pst1kcyc_read29           1\n",
      "pst1kcyc_read38           1\n",
      "pst1kcyc_read30           1\n",
      "pst1kcyc_read31           1\n",
      "pst1kcyc_read32           1\n",
      "pst1kcyc_read33           1\n",
      "pst1kcyc_read34           1\n",
      "pst1kcyc_read35           1\n",
      "pst1kcyc_read36           1\n",
      "pst1kcyc_read37           1\n",
      "pst1kcyc_read45           1\n",
      "pst1kcyc_read39           1\n",
      "pst1kcyc_read40           1\n",
      "pst1kcyc_read41           1\n",
      "pst1kcyc_read42           1\n",
      "pst1kcyc_read43           1\n",
      "pst1kcyc_read44           1\n",
      "pst1kcyc_read27           1\n",
      "pst1kcyc_read46           1\n",
      "pst1kcyc_read47           1\n",
      "pst1kcyc_read48           1\n",
      "pst1kcyc_read28           1\n",
      "pst1kcyc_read20           1\n",
      "pst1kcyc_read26           1\n",
      "pst1kcyc_read25           1\n",
      "pst1kcyc_read6            1\n",
      "pst1kcyc_read7            1\n",
      "pst1kcyc_read8            1\n",
      "pst1kcyc_read9            1\n",
      "pst1kcyc_read10           1\n",
      "pst1kcyc_read11           1\n",
      "pst1kcyc_read12           1\n",
      "pst1kcyc_read13           1\n",
      "pst1kcyc_read14           1\n",
      "pst1kcyc_read15           1\n",
      "pst1kcyc_read16           1\n",
      "pst1kcyc_read17           1\n",
      "pst1kcyc_read18           1\n",
      "pst1kcyc_read19           1\n",
      "pst1kcyc_read50           1\n",
      "pst1kcyc_read21           1\n",
      "pst1kcyc_read22           1\n",
      "pst1kcyc_read23           1\n",
      "pst1kcyc_read24           1\n",
      "pst1kcyc_read49           1\n",
      "pst1kcyc_read55           1\n",
      "pst1kcyc_read51           1\n",
      "pst1kcyc_read88           1\n",
      "pst1kcyc_read78           1\n",
      "pst1kcyc_read79           1\n",
      "pst1kcyc_read80           1\n",
      "pst1kcyc_read81           1\n",
      "pst1kcyc_read82           1\n",
      "pst1kcyc_read83           1\n",
      "pst1kcyc_read84           1\n",
      "pst1kcyc_read85           1\n",
      "pst1kcyc_read86           1\n",
      "pst1kcyc_read87           1\n",
      "pst1kcyc_read89           1\n",
      "pst1kcyc_read52           1\n",
      "pst1kcyc_read90           1\n",
      "pst1kcyc_read91           1\n",
      "pst1kcyc_read92           1\n",
      "pst1kcyc_read93           1\n",
      "pst1kcyc_read94           1\n",
      "pst1kcyc_read95           1\n",
      "pst1kcyc_read96           1\n",
      "pst1kcyc_read97           1\n",
      "pst1kcyc_read98           1\n",
      "pst1kcyc_read99           1\n",
      "pst1kcyc_read77           1\n",
      "pst1kcyc_read76           1\n",
      "pst1kcyc_read75           1\n",
      "pst1kcyc_read74           1\n",
      "pst1kcyc_read53           1\n",
      "pst1kcyc_read54           1\n",
      "pst1kcyc_read4            1\n",
      "pst1kcyc_read56           1\n",
      "pst1kcyc_read57           1\n",
      "pst1kcyc_read58           1\n",
      "pst1kcyc_read59           1\n",
      "pst1kcyc_read60           1\n",
      "pst1kcyc_read61           1\n",
      "pst1kcyc_read62           1\n",
      "pst1kcyc_read63           1\n",
      "pst1kcyc_read64           1\n",
      "pst1kcyc_read65           1\n",
      "pst1kcyc_read66           1\n",
      "pst1kcyc_read67           1\n",
      "pst1kcyc_read68           1\n",
      "pst1kcyc_read69           1\n",
      "pst1kcyc_read70           1\n",
      "pst1kcyc_read71           1\n",
      "pst1kcyc_read72           1\n",
      "pst1kcyc_read73           1\n",
      "pst1kcyc_read5            1\n",
      "readtest_read0            1\n",
      "pst1kcyc_read3            1\n",
      "T0_read37                 1\n",
      "T0_read27                 1\n",
      "T0_read28                 1\n",
      "T0_read29                 1\n",
      "T0_read30                 1\n",
      "T0_read31                 1\n",
      "T0_read32                 1\n",
      "T0_read33                 1\n",
      "T0_read34                 1\n",
      "T0_read35                 1\n",
      "T0_read36                 1\n",
      "T0_read38                 1\n",
      "T0_read25                 1\n",
      "T0_read39                 1\n",
      "T0_read40                 1\n",
      "T0_read41                 1\n",
      "T0_read42                 1\n",
      "T0_read43                 1\n",
      "T0_read44                 1\n",
      "T0_read45                 1\n",
      "T0_read46                 1\n",
      "T0_read47                 1\n",
      "T0_read48                 1\n",
      "T0_read26                 1\n",
      "T0_read24                 1\n",
      "T0_read50                 1\n",
      "T0_read11                 1\n",
      "T0_read1                  1\n",
      "T0_read2                  1\n",
      "T0_read3                  1\n",
      "T0_read4                  1\n",
      "T0_read5                  1\n",
      "T0_read6                  1\n",
      "T0_read7                  1\n",
      "T0_read8                  1\n",
      "T0_read9                  1\n",
      "T0_read10                 1\n",
      "T0_read12                 1\n",
      "T0_read23                 1\n",
      "T0_read13                 1\n",
      "T0_read14                 1\n",
      "T0_read15                 1\n",
      "T0_read16                 1\n",
      "T0_read17                 1\n",
      "T0_read18                 1\n",
      "T0_read19                 1\n",
      "T0_read20                 1\n",
      "T0_read21                 1\n",
      "T0_read22                 1\n",
      "T0_read49                 1\n",
      "T0_read51                 1\n",
      "pst1kcyc_read2            1\n",
      "T0_read89                 1\n",
      "T0_read79                 1\n",
      "T0_read80                 1\n",
      "T0_read81                 1\n",
      "T0_read82                 1\n",
      "T0_read83                 1\n",
      "T0_read84                 1\n",
      "T0_read85                 1\n",
      "T0_read86                 1\n",
      "T0_read87                 1\n",
      "T0_read88                 1\n",
      "T0_read90                 1\n",
      "T0_read77                 1\n",
      "T0_read91                 1\n",
      "T0_read92                 1\n",
      "T0_read93                 1\n",
      "T0_read94                 1\n",
      "T0_read95                 1\n",
      "T0_read96                 1\n",
      "T0_read97                 1\n",
      "T0_read98                 1\n",
      "T0_read99                 1\n",
      "pst1kcyc_read0            1\n",
      "T0_read78                 1\n",
      "T0_read76                 1\n",
      "T0_read52                 1\n",
      "T0_read63                 1\n",
      "T0_read53                 1\n",
      "T0_read54                 1\n",
      "T0_read55                 1\n",
      "T0_read56                 1\n",
      "T0_read57                 1\n",
      "T0_read58                 1\n",
      "T0_read59                 1\n",
      "T0_read60                 1\n",
      "T0_read61                 1\n",
      "T0_read62                 1\n",
      "T0_read64                 1\n",
      "T0_read75                 1\n",
      "T0_read65                 1\n",
      "T0_read66                 1\n",
      "T0_read67                 1\n",
      "T0_read68                 1\n",
      "T0_read69                 1\n",
      "T0_read70                 1\n",
      "T0_read71                 1\n",
      "T0_read72                 1\n",
      "T0_read73                 1\n",
      "T0_read74                 1\n",
      "pst1kcyc_read1            1\n"
     ]
    }
   ],
   "source": [
    "# Filter your pulled data to the found die by doing an inner merge\n",
    "rwb_RAC = pd.merge(left=rwb_pull, right=RAC_tt27macroios, how='inner')\n",
    "\n",
    "# Print the unique TEST_NAMEs to sanity check\n",
    "test_name_counts = rwb_RAC.TEST_NAME.value_counts() # Value counts shows the number of rows for each unique value\n",
    "print(test_name_counts.to_string()) # .to_string() is added at the end to enable full viewing of this list"
   ]
  },
  {
   "cell_type": "code",
   "execution_count": 7,
   "metadata": {},
   "outputs": [
    {
     "data": {
      "text/plain": [
       "['pstT0-ftreset_read0',\n",
       " 'T0_read0',\n",
       " 'prebake_read0',\n",
       " 'rebake_read0',\n",
       " 'afterbakeReft_read0',\n",
       " 'post-form_read0',\n",
       " 'post10cyc-set_read0',\n",
       " 'post10cyc-reset_read0',\n",
       " 'check_read0',\n",
       " 'pst100cycft_read0',\n",
       " '125C22minbake_read0',\n",
       " '150C25minbake_read0',\n",
       " '150C50minbake_read0',\n",
       " '150C220minbake_read0']"
      ]
     },
     "execution_count": 7,
     "metadata": {},
     "output_type": "execute_result"
    }
   ],
   "source": [
    "# Let's only keep data for tests on all 32 measured IOs\n",
    "tests_of_interest = test_name_counts[test_name_counts >= 32].index.to_list()\n",
    "tests_of_interest"
   ]
  },
  {
   "cell_type": "code",
   "execution_count": 8,
   "metadata": {},
   "outputs": [],
   "source": [
    "# The TEST_NAME 'T0_read0' has 36 readouts even though there are only 32 IOs, let's find out where the redundancy in the data is\n",
    "rwb_T0debug = rwb_RAC.loc[rwb_RAC.TEST_NAME=='T0_read0']\n",
    "\n",
    "# Using Data Wranger to explore the data frame, we notice that all duplicate runs come from what looks like a validation run on IO0 before KPI called 'IO0preKPI'. TO be safe let's exclude IO0 from our study\n",
    "rwb_RAC = rwb_RAC.loc[~(rwb_RAC.IO==0)]"
   ]
  },
  {
   "cell_type": "code",
   "execution_count": 9,
   "metadata": {},
   "outputs": [
    {
     "name": "stdout",
     "output_type": "stream",
     "text": [
      "post-form_read0          31\n",
      "T0_read0                 31\n",
      "pstT0-ftreset_read0      31\n",
      "post10cyc-set_read0      31\n",
      "post10cyc-reset_read0    31\n",
      "pst100cycft_read0        31\n",
      "prebake_read0            31\n",
      "125C22minbake_read0      31\n",
      "150C25minbake_read0      31\n",
      "150C50minbake_read0      31\n",
      "150C220minbake_read0     31\n",
      "check_read0              31\n",
      "afterbakeReft_read0      31\n",
      "rebake_read0             31\n"
     ]
    }
   ],
   "source": [
    "# The updated TEST_NAMEs are shown below\n",
    "test_name_counts = rwb_RAC.TEST_NAME.value_counts() # Value counts shows the number of rows for each unique value\n",
    "print(test_name_counts.to_string()) # .to_string() is added at the end to enable full viewing of this list"
   ]
  },
  {
   "cell_type": "markdown",
   "metadata": {},
   "source": [
    "It looks like the dataset is cleaned up, let's start plotting!"
   ]
  },
  {
   "cell_type": "code",
   "execution_count": null,
   "metadata": {},
   "outputs": [],
   "source": [
    "# Plot the NQ distributions, let's say we want to check out the 3 IOs with the best (widest) and worst (narrowest) T0 read window for Level 0/1 just to gauge the data.\n",
    "\n",
    "# Locate T0 readout and sort rows based on level0/1 windwo at 170PPM. Higher row index (further down the table) means worse window.\n",
    "rwb_T0_sorted_by_level01window = rwb_RAC.loc[rwb_RAC.TEST_NAME=='T0_read0'].sort_values(by='LEVEL_01_170PPM_ADCRWB', ascending=False)\n",
    "\n",
    "print('The best 3 IOs for LEVEL_01_170PPM_ADCRWB')\n",
    "cf.rwb_overlay_levels_nqplot(rwb_T0_sorted_by_level01window.iloc[:3], groupby_col='IO')\n",
    "\n",
    "print('The worst 3 IOs for LEVEL_01_170PPM_ADCRWB')\n",
    "cf.rwb_overlay_levels_nqplot(rwb_T0_sorted_by_level01window.iloc[-3:], groupby_col='IO')"
   ]
  },
  {
   "cell_type": "code",
   "execution_count": null,
   "metadata": {},
   "outputs": [],
   "source": [
    "# We can also plot the same data overlaying the previously plotted IOs grouped by level\n",
    "\n",
    "# Find the best and worst 3 IOs\n",
    "IOs = list(rwb_T0_sorted_by_level01window.iloc[:3].IO) + list(rwb_T0_sorted_by_level01window.iloc[-3:].IO)\n",
    "\n",
    "# Generate plot\n",
    "cf.rwb_groupby_level_nqplot(rwb_T0_sorted_by_level01window.loc[rwb_T0_sorted_by_level01window.IO.isin(IOs)]) "
   ]
  },
  {
   "cell_type": "markdown",
   "metadata": {},
   "source": [
    "One can see from the figure above that the main differentiator for level 0/1 window is the tail formation in level1"
   ]
  },
  {
   "cell_type": "code",
   "execution_count": null,
   "metadata": {},
   "outputs": [],
   "source": [
    "# Now that we have a rough handle for the appearance of the raw data, we can now examine IO-level correlations. Let's first look at RAC vs. the same T0 window metric\n",
    "\n",
    "# This function pivots the RWB table by TEST_NAME by grouping die/macro/IO information and splitting all data columns by unique TEST_NAMEs\n",
    "rwb_RAC_split = cf.rwb_pivot_by_test(rwb_RAC)\n",
    "\n",
    "# Plot scatter plots of various T0 metrics vs. post-bake metrics to explore which ones generate the best fit\n",
    "cf.rwb_scatter_plot(rwb_RAC_split, x='T0_read0 - LEVEL_01_XPOINT_PPM', y='150C220minbake_read0 - LEVEL_01_XPOINT_PPM', overlay_var='DIE_ID', fit_type='linear')\n",
    "cf.rwb_scatter_plot(rwb_RAC_split, x='T0_read0 - LEVEL_01_170PPM_ADCRWB', y='150C220minbake_read0 - LEVEL_01_XPOINT_PPM', overlay_var='DIE_ID', fit_type='linear')\n",
    "cf.rwb_scatter_plot(rwb_RAC_split, x='T0_read0 - LEVEL_0_0ADC_PPM', y='150C220minbake_read0 - LEVEL_01_XPOINT_PPM', overlay_var='DIE_ID', fit_type='linear')\n",
    "cf.rwb_scatter_plot(rwb_RAC_split, x='T0_read0 - LEVEL_1_DISTSIGMA', y='150C220minbake_read0 - LEVEL_01_XPOINT_PPM', overlay_var='DIE_ID', fit_type='linear')"
   ]
  },
  {
   "cell_type": "markdown",
   "metadata": {},
   "source": [
    "2. Bit-level data"
   ]
  },
  {
   "cell_type": "code",
   "execution_count": null,
   "metadata": {},
   "outputs": [],
   "source": [
    "# The follow code snippet it used to fetch bit-level data for further deep dive. For isntance let's pull the bit level data for the 3 best and 3 worst IOs we found earlier\n",
    "\n",
    "# Create a dataframe of just the rows of interest, don't pull too much data (no more than 20 unique readouts) since it will be slow to process\n",
    "rwb_bestandworstIOs = rwb_RAC.loc[(rwb_RAC.IO.isin([35,2]))&(rwb_RAC.TEST_NAME.isin(['T0_read0','pst100cycft_read0','150C220minbake_read0']))]\n",
    "\n",
    "# Fetch the raw bit-level data, each row is a unique die/macro/io/BL/WL and each coulmn is grouped by TEST_NAME  \n",
    "df_bit_level = cf.rwb_fetch_bitlevel_data(rwb_bestandworstIOs)"
   ]
  },
  {
   "cell_type": "code",
   "execution_count": null,
   "metadata": {},
   "outputs": [],
   "source": [
    "# View the first ten rows of bit level data\n",
    "df_bit_level.head(10)"
   ]
  },
  {
   "cell_type": "code",
   "execution_count": null,
   "metadata": {},
   "outputs": [],
   "source": [
    "# Save data to csv file for further analysis\n",
    "df_bit_level.to_csv('bit_level_data.csv', index=False)"
   ]
  },
  {
   "cell_type": "code",
   "execution_count": null,
   "metadata": {},
   "outputs": [],
   "source": [
    "# I haven't gotten a chance to write functions that plot bit-level data in python yet, currently using JMP for this type of analysis"
   ]
  }
 ],
 "metadata": {
  "kernelspec": {
   "display_name": "Python 3 (ipykernel)",
   "language": "python",
   "name": "python3"
  },
  "language_info": {
   "codemirror_mode": {
    "name": "ipython",
    "version": 3
   },
   "file_extension": ".py",
   "mimetype": "text/x-python",
   "name": "python",
   "nbconvert_exporter": "python",
   "pygments_lexer": "ipython3",
   "version": "3.10.12"
  }
 },
 "nbformat": 4,
 "nbformat_minor": 2
}
